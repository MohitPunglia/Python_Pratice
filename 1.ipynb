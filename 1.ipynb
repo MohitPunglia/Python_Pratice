import numpy as np
import pandas as pd
data=pd.read_csv('titanic.csv')
data.head()
data.columns
Frequency distribution Table
data['Pclass'].value_counts()
Bar Chart
data['Pclass'].value_counts().plot(kind='bar')
Pie Chart
data.head()
data['Pclass'].value_counts().plot(kind='pie',autopct='%0.2f')
