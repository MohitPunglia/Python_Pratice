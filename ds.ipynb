# %%
import numpy as np
import pandas as pd
from matplotlib import pyplot as plt
import seaborn as sns

# %%
data=pd.read_csv('titanic.csv')

# %%
data.head()

# %%
data.columns

# %% [markdown]
# Frequency distribution Table

# %%
data['Pclass'].value_counts()

# %% [markdown]
# Bar Chart

# %%
data['Pclass'].value_counts().plot(kind='bar')

# %% [markdown]
# Pie Chart

# %%
data.head()

# %%
data['Pclass'].value_counts().plot(kind='pie',autopct='%0.2f')

# %% [markdown]
# Cumulative Frequency

# %%
a=data['Pclass'].value_counts()
a

# %%
b=((a/a.sum())*100).values
b

# %%
c=[]
cf=0
for i in b:
    cf=cf + i
    c.append(cf)


# %%
c

# %%
plt.plot(c, marker='D')

# %% [markdown]
# 2. Working with Numerical data

# %% [markdown]
# a. Histrogram

# %%
data['Age'].value_counts()

# %%
d=data['Age'].values
d

# %%
plt.hist(d)

# %%
sns.boxplot('Age',data=data)

# %%
sns.kdeplot(data['Age'])

# %%
sns.boxplot(x='Pclass', y='Age', data=data)

# %%
sns.barplot(x='Pclass', y='Age', data=data)

# %%

ct=pd.crosstab(data['Pclass'],data['Sex'])
ct

# %%
ct.plot(kind='bar')

# %%
sns.heatmap(ct)

# %%



