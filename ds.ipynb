# %%
import numpy as np
import pandas as pd

# %%
data=pd.read_csv('titanic.csv')

# %%
data.head()

# %%
data.columns

# %% [markdown]
# Frequency distribution Table

# %%
data['Pclass'].value_counts()

# %% [markdown]
# Bar Chart

# %%
data['Pclass'].value_counts().plot(kind='bar')

# %% [markdown]
# Pie Chart

# %%
data.head()

# %%
data['Pclass'].value_counts().plot(kind='pie',autopct='%0.2f')

# %%



