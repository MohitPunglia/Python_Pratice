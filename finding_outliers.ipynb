# %%
import numpy as np
import pandas as pd
from matplotlib import pyplot as plt

# %%
dataset=[11,10,12,14,12,14,15,16,103,12,14,14,19,107,10,12,12,14,15,108,16,18,14,15,18]

# %%
plt.hist(dataset)

# %%
outliers = []

def detect_outliers(data):
   
    threshold = 3
    mean = np.mean(data)
    std = np.std(data)

    for i in data:
        z_score = (i - mean) / std
        if np.abs(z_score) > threshold:
            outliers.append(i)
    return outliers




# %%
detect_outliers(dataset)

# %%



