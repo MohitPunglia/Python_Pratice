# %%
import numpy as np
import pandas as pd
from matplotlib import pyplot as plt
import seaborn as sns

# %%
data=pd.read_csv('iris.csv')
data.head()

# %%
data.tail()

# %%
data['variety'].value_counts()

# %%
iris_setosa=data[data['variety']=='Setosa']
iris_versicolor=data[data['variety']=='Versicolor']
iris_virginica=data[data['variety']=='Virginica']


# %% [markdown]
# 1. Mean

# %% [markdown]
# Mean
# 

# %%
print(np.mean(iris_setosa['sepal.width']))
print(np.mean(iris_versicolor['sepal.width']))
print(np.mean(iris_virginica['sepal.width']))

# %%
print(np.mean(iris_setosa['sepal.length']))
print(np.mean(iris_versicolor['sepal.length']))
print(np.mean(iris_virginica['sepal.length']))

# %%
print(np.mean(iris_setosa['petal.length']))
print(np.mean(iris_versicolor['petal.length']))
print(np.mean(iris_virginica['petal.length']))

# %%
print(np.mean(iris_setosa['petal.width']))
print(np.mean(iris_versicolor['petal.width']))
print(np.mean(iris_virginica['petal.width']))

# %%
plt.hist(iris_setosa['petal.length'])

# %% [markdown]
# 2. Median
# 

# %%
print(np.median(iris_setosa['sepal.width']))
print(np.median(iris_versicolor['sepal.width']))
print(np.median(iris_virginica['sepal.width']))

# %%
print(np.median(iris_setosa['petal.length']))
print(np.median(iris_versicolor['petal.length']))
print(np.median(iris_virginica['petal.length']))

# %% [markdown]
# 3. Mode
# 

# %%
from scipy import stats

print(stats.mode(iris_setosa['petal.length']))

# %%



